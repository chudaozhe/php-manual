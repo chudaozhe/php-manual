{
 "cells": [
  {
   "attachments": {},
   "cell_type": "markdown",
   "metadata": {},
   "source": [
    "# 用户自定义函数\n",
    "PHP 不支持函数重载，也不可能取消定义或者重定义已声明的函数。\n",
    "\n",
    "\n",
    "示例 #3 函数中的函数"
   ]
  },
  {
   "cell_type": "code",
   "execution_count": 122,
   "metadata": {
    "vscode": {
     "languageId": "php"
    }
   },
   "outputs": [
    {
     "data": {
      "text/plain": [
       "PHP Fatal error:  Cannot redeclare foo() in eval()'d code on line 2"
      ]
     },
     "execution_count": 122,
     "metadata": {},
     "output_type": "execute_result"
    }
   ],
   "source": [
    "<?php\n",
    "function foo()\n",
    "{\n",
    "  function bar()\n",
    "  {\n",
    "    echo \"I don't exist until foo() is called.\\n\";\n",
    "  }\n",
    "}\n",
    "\n",
    "/* 现在还不能调用 bar() 函数，因为它还不存在 */\n",
    "\n",
    "foo();\n",
    "\n",
    "/* 现在可以调用 bar() 函数了，因为 foo() 函数\n",
    "   的执行使得 bar() 函数变为已定义的函数 */\n",
    "\n",
    "bar();"
   ]
  },
  {
   "attachments": {},
   "cell_type": "markdown",
   "metadata": {},
   "source": [
    "示例 #4 递归函数"
   ]
  },
  {
   "cell_type": "code",
   "execution_count": 123,
   "metadata": {
    "vscode": {
     "languageId": "php"
    }
   },
   "outputs": [
    {
     "data": {
      "text/plain": [
       "PHP Fatal error:  Cannot redeclare recursion() in eval()'d code on line 2"
      ]
     },
     "execution_count": 123,
     "metadata": {},
     "output_type": "execute_result"
    }
   ],
   "source": [
    "<?php\n",
    "function recursion($a)\n",
    "{\n",
    "    if ($a < 20) {\n",
    "        echo \"$a\\n\";\n",
    "        recursion($a + 1);\n",
    "    }\n",
    "}"
   ]
  }
 ],
 "metadata": {
  "kernelspec": {
   "display_name": "PHP",
   "language": "php",
   "name": "php"
  },
  "language_info": {
   "file_extension": ".php",
   "mimetype": "text/x-php",
   "name": "PHP",
   "pygments_lexer": "PHP",
   "version": "8.1.9"
  },
  "orig_nbformat": 4
 },
 "nbformat": 4,
 "nbformat_minor": 2
}
