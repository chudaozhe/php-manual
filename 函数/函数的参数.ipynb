{
 "cells": [
  {
   "attachments": {},
   "cell_type": "markdown",
   "metadata": {},
   "source": [
    "# 函数的参数\n",
    "\n",
    "示例 #2 函数参数使用尾部逗号"
   ]
  },
  {
   "attachments": {},
   "cell_type": "markdown",
   "metadata": {},
   "source": [
    "```\n",
    "<?php\n",
    "function takes_many_args(\n",
    "    $first_arg,\n",
    "    $second_arg,\n",
    "    $a_very_long_argument_name,\n",
    "    $arg_with_default = 5,\n",
    "    $again = 'a default string', // 在 8.0.0 之前，这个尾部的逗号是不允许的。\n",
    ")\n",
    "{\n",
    "    // ...\n",
    "}\n",
    "```"
   ]
  },
  {
   "attachments": {},
   "cell_type": "markdown",
   "metadata": {},
   "source": [
    "## 通过引用传递参数\n",
    "示例 #4 用引用传递函数参数"
   ]
  },
  {
   "cell_type": "code",
   "execution_count": 101,
   "metadata": {
    "vscode": {
     "languageId": "php"
    }
   },
   "outputs": [
    {
     "data": {
      "text/plain": [
       "PHP Fatal error:  Cannot redeclare add_some_extra() in eval()'d code on line 2"
      ]
     },
     "execution_count": 101,
     "metadata": {},
     "output_type": "execute_result"
    }
   ],
   "source": [
    "<?php\n",
    "function add_some_extra(&$string)\n",
    "{\n",
    "    $string .= 'and something extra.';\n",
    "}\n",
    "$str = 'This is a string, ';\n",
    "add_some_extra($str);\n",
    "echo $str;    // 输出 'This is a string, and something extra.'"
   ]
  },
  {
   "attachments": {},
   "cell_type": "markdown",
   "metadata": {},
   "source": [
    "## 默认参数的值"
   ]
  },
  {
   "attachments": {},
   "cell_type": "markdown",
   "metadata": {},
   "source": [
    "## 可变数量的参数列表"
   ]
  },
  {
   "cell_type": "code",
   "execution_count": 102,
   "metadata": {
    "vscode": {
     "languageId": "php"
    }
   },
   "outputs": [
    {
     "data": {
      "text/plain": [
       "PHP Fatal error:  Cannot redeclare sum() in eval()'d code on line 2"
      ]
     },
     "execution_count": 102,
     "metadata": {},
     "output_type": "execute_result"
    }
   ],
   "source": [
    "<?php\n",
    "function sum(...$numbers) {\n",
    "    $acc = 0;\n",
    "    foreach ($numbers as $n) {\n",
    "        $acc += $n;\n",
    "    }\n",
    "    return $acc;\n",
    "}\n",
    "\n",
    "echo sum(1, 2, 3, 4);\n",
    "\n",
    "//旧版\n",
    "function sum2() {\n",
    "    $acc = 0;\n",
    "    foreach (func_get_args() as $n) {\n",
    "        $acc += $n;\n",
    "    }\n",
    "    return $acc;\n",
    "}\n",
    "\n",
    "echo sum2(1, 2, 3, 4);"
   ]
  },
  {
   "attachments": {},
   "cell_type": "markdown",
   "metadata": {},
   "source": [
    "示例 #10 使用 ... 来传递参数"
   ]
  },
  {
   "cell_type": "code",
   "execution_count": 104,
   "metadata": {
    "vscode": {
     "languageId": "php"
    }
   },
   "outputs": [
    {
     "data": {
      "text/plain": [
       "PHP Fatal error:  Cannot redeclare add() in eval()'d code on line 2"
      ]
     },
     "execution_count": 104,
     "metadata": {},
     "output_type": "execute_result"
    }
   ],
   "source": [
    "<?php\n",
    "function add($a, $b) {\n",
    "    return $a + $b;\n",
    "}\n",
    "\n",
    "echo add(...[1, 2]).\"\\n\";\n",
    "\n",
    "$a = [1, 2];\n",
    "echo add(...$a);"
   ]
  },
  {
   "attachments": {},
   "cell_type": "markdown",
   "metadata": {},
   "source": [
    "## 命名参数\n",
    "PHP 8.0.0 开始引入了命名参数作为现有位置参数的扩展。"
   ]
  },
  {
   "cell_type": "code",
   "execution_count": 103,
   "metadata": {
    "vscode": {
     "languageId": "php"
    }
   },
   "outputs": [
    {
     "data": {
      "text/plain": [
       "PHP Fatal error:  Cannot redeclare fn1() in eval()'d code on line 2"
      ]
     },
     "execution_count": 103,
     "metadata": {},
     "output_type": "execute_result"
    }
   ],
   "source": [
    "<?php\n",
    "function fn1($a, $b){\n",
    "    return $a.'-'.$b;\n",
    "}\n",
    "echo fn1(b:3, a:1);"
   ]
  }
 ],
 "metadata": {
  "kernelspec": {
   "display_name": "PHP",
   "language": "php",
   "name": "php"
  },
  "language_info": {
   "file_extension": ".php",
   "mimetype": "text/x-php",
   "name": "PHP",
   "pygments_lexer": "PHP",
   "version": "8.1.9"
  },
  "orig_nbformat": 4
 },
 "nbformat": 4,
 "nbformat_minor": 2
}
