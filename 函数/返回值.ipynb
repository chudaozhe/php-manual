{
 "cells": [
  {
   "attachments": {},
   "cell_type": "markdown",
   "metadata": {},
   "source": [
    "# 返回值\n",
    "函数不能返回多个值，但可以通过返回一个数组来得到类似的效果。\n",
    "\n",
    "示例 #2 返回一个数组以得到多个返回值"
   ]
  },
  {
   "cell_type": "code",
   "execution_count": 93,
   "metadata": {
    "vscode": {
     "languageId": "php"
    }
   },
   "outputs": [
    {
     "data": {
      "text/plain": [
       "array (\n",
       "  0 => 0,\n",
       "  1 => 1,\n",
       "  2 => 2,\n",
       ")\n"
      ]
     },
     "execution_count": 93,
     "metadata": {},
     "output_type": "execute_result"
    }
   ],
   "source": [
    "function small_numbers()\n",
    "{\n",
    "    return [0, 1, 2];\n",
    "}\n",
    "// 使用短数组语法将数组中的值赋给一组变量\n",
    "[$zero, $one, $two] = small_numbers();\n",
    "\n",
    "// 在 7.1.0 之前，唯一相等的选择是使用 list() 结构\n",
    "list($zero, $one, $two) = small_numbers();"
   ]
  },
  {
   "attachments": {},
   "cell_type": "markdown",
   "metadata": {},
   "source": [
    "示例 #3 从函数返回一个引用"
   ]
  },
  {
   "cell_type": "code",
   "execution_count": 94,
   "metadata": {
    "vscode": {
     "languageId": "php"
    }
   },
   "outputs": [
    {
     "data": {
      "text/plain": [
       "NULL\n"
      ]
     },
     "execution_count": 94,
     "metadata": {},
     "output_type": "execute_result"
    }
   ],
   "source": [
    "<?php\n",
    "function &returns_reference()\n",
    "{\n",
    "    return $someref;\n",
    "}\n",
    "\n",
    "$newref =& returns_reference();"
   ]
  }
 ],
 "metadata": {
  "kernelspec": {
   "display_name": "PHP",
   "language": "php",
   "name": "php"
  },
  "language_info": {
   "file_extension": ".php",
   "mimetype": "text/x-php",
   "name": "PHP",
   "pygments_lexer": "PHP",
   "version": "8.1.9"
  },
  "orig_nbformat": 4
 },
 "nbformat": 4,
 "nbformat_minor": 2
}
