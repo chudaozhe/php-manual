{
 "cells": [
  {
   "attachments": {},
   "cell_type": "markdown",
   "metadata": {},
   "source": [
    "# 箭头函数\n",
    "箭头函数是 PHP 7.4 的新语法，是一种更简洁的 匿名函数 写法。\n",
    "\n",
    "匿名函数和箭头函数都是 Closure 类的实现。\n",
    "\n",
    "箭头函数的基本语法为 fn (argument_list) => expr。\n",
    "\n",
    "箭头函数支持与 匿名函数 相同的功能，只是其父作用域的变量总是自动的。\n",
    "\n",
    "当表达式中使用的变量是在父作用域中定义的，它将被隐式地按值捕获。在下面的例子中，函数 $fn1 和 $fn2 的行为是一样的。\n",
    "\n",
    "示例 #1 箭头函数自动捕捉变量的值"
   ]
  },
  {
   "cell_type": "code",
   "execution_count": 109,
   "metadata": {
    "vscode": {
     "languageId": "php"
    }
   },
   "outputs": [
    {
     "data": {
      "text/plain": [
       "4\n",
       "4\n"
      ]
     },
     "execution_count": 109,
     "metadata": {},
     "output_type": "execute_result"
    }
   ],
   "source": [
    "<?php\n",
    "$y = 1;\n",
    "\n",
    "$fn1 = fn($x) => $x + $y;\n",
    "// 相当于通过 value 使用 $y：\n",
    "$fn2 = function ($x) use ($y) {\n",
    "    return $x + $y;\n",
    "};\n",
    "\n",
    "echo $fn1(3).PHP_EOL;//4\n",
    "echo $fn2(3);//4"
   ]
  },
  {
   "attachments": {},
   "cell_type": "markdown",
   "metadata": {},
   "source": [
    "示例 #2 箭头函数自动捕捉变量的值，即使在嵌套的情况下"
   ]
  },
  {
   "cell_type": "code",
   "execution_count": 110,
   "metadata": {
    "vscode": {
     "languageId": "php"
    }
   },
   "outputs": [
    {
     "data": {
      "text/plain": [
       "51\n",
       "NULL\n"
      ]
     },
     "execution_count": 110,
     "metadata": {},
     "output_type": "execute_result"
    }
   ],
   "source": [
    "<?php\n",
    "$z = 1;\n",
    "$fn = fn($x) => fn($y) => $x * $y + $z;\n",
    "// 输出 51\n",
    "var_export($fn(5)(10));"
   ]
  }
 ],
 "metadata": {
  "kernelspec": {
   "display_name": "PHP",
   "language": "php",
   "name": "php"
  },
  "language_info": {
   "file_extension": ".php",
   "mimetype": "text/x-php",
   "name": "PHP",
   "pygments_lexer": "PHP",
   "version": "8.1.9"
  },
  "orig_nbformat": 4
 },
 "nbformat": 4,
 "nbformat_minor": 2
}
