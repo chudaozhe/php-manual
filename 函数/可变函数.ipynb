{
 "cells": [
  {
   "attachments": {},
   "cell_type": "markdown",
   "metadata": {},
   "source": [
    "# 可变函数"
   ]
  },
  {
   "cell_type": "code",
   "execution_count": 113,
   "metadata": {
    "vscode": {
     "languageId": "php"
    }
   },
   "outputs": [
    {
     "data": {
      "text/plain": [
       "PHP Fatal error:  Cannot redeclare foo() in eval()'d code on line 2"
      ]
     },
     "execution_count": 113,
     "metadata": {},
     "output_type": "execute_result"
    }
   ],
   "source": [
    "<?php\n",
    "function foo() {\n",
    "    echo \"In foo()<br />\\n\";\n",
    "}\n",
    "\n",
    "function bar($arg = '')\n",
    "{\n",
    "    echo \"In bar(); argument was '$arg'.<br />\\n\";\n",
    "}\n",
    "\n",
    "// 使用 echo 的包装函数\n",
    "function echoit($string)\n",
    "{\n",
    "    echo $string;\n",
    "}\n",
    "\n",
    "$func = 'foo';\n",
    "$func();        // 调用 foo()"
   ]
  },
  {
   "attachments": {},
   "cell_type": "markdown",
   "metadata": {},
   "source": [
    "示例 #4 复杂调用"
   ]
  },
  {
   "cell_type": "code",
   "execution_count": 114,
   "metadata": {
    "vscode": {
     "languageId": "php"
    }
   },
   "outputs": [
    {
     "data": {
      "text/plain": [
       "PHP Fatal error:  Class named Foo already exists in eval()'d code on line 2"
      ]
     },
     "execution_count": 114,
     "metadata": {},
     "output_type": "execute_result"
    }
   ],
   "source": [
    "<?php\n",
    "class Foo\n",
    "{\n",
    "    static function bar()\n",
    "    {\n",
    "        echo \"bar\\n\";\n",
    "    }\n",
    "    function baz()\n",
    "    {\n",
    "        echo \"baz\\n\";\n",
    "    }\n",
    "}\n",
    "\n",
    "$func = array(\"Foo\", \"bar\");\n",
    "$func(); // 打印 \"bar\""
   ]
  }
 ],
 "metadata": {
  "kernelspec": {
   "display_name": "PHP",
   "language": "php",
   "name": "php"
  },
  "language_info": {
   "file_extension": ".php",
   "mimetype": "text/x-php",
   "name": "PHP",
   "pygments_lexer": "PHP",
   "version": "8.1.9"
  },
  "orig_nbformat": 4
 },
 "nbformat": 4,
 "nbformat_minor": 2
}
