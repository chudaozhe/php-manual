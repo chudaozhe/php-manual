{
 "cells": [
  {
   "attachments": {},
   "cell_type": "markdown",
   "metadata": {},
   "source": [
    "示例1\n",
    "\n",
    "使用了ob_start()，什么情况才会有输出？\n",
    "- 脚本运行完成\n",
    "- 或者调用了ob_end_flush方法\n",
    "\n",
    "没使用ob_start()，什么情况才会有输出？\n",
    "- 直到buffer写满，才会发送到浏览器\n",
    "\n",
    "https://www.cnblogs.com/fdipzone/p/3715092.html"
   ]
  },
  {
   "cell_type": "code",
   "execution_count": 3,
   "metadata": {
    "vscode": {
     "languageId": "php"
    }
   },
   "outputs": [
    {
     "data": {
      "text/plain": [
       "123456"
      ]
     },
     "execution_count": 3,
     "metadata": {},
     "output_type": "execute_result"
    }
   ],
   "source": [
    "<?php\n",
    "ob_start();\n",
    "echo '123456';"
   ]
  }
 ],
 "metadata": {
  "kernelspec": {
   "display_name": "PHP",
   "language": "php",
   "name": "php"
  },
  "language_info": {
   "file_extension": ".php",
   "mimetype": "text/x-php",
   "name": "PHP",
   "pygments_lexer": "PHP",
   "version": "8.1.9"
  },
  "orig_nbformat": 4
 },
 "nbformat": 4,
 "nbformat_minor": 2
}
