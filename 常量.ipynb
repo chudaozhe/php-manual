{
 "cells": [
  {
   "attachments": {},
   "cell_type": "markdown",
   "metadata": {},
   "source": [
    "# 常量\n",
    "可以使用 const 关键字或 define() 函数两种方法来定义一个常量。函数 define() 允许将常量定义为一个表达式，而 const 关键字有一些限制，具体可参见下述章节。一个常量一旦被定义，就不能再改变或者取消定义。\n",
    "```\n",
    "//允许将常量定义为一个表达式\n",
    "define(\"FOO\", \"something\");\n",
    "\n",
    "// 简单的标量值\n",
    "const CONSTANT = 'Hello World';\n",
    "```"
   ]
  },
  {
   "attachments": {},
   "cell_type": "markdown",
   "metadata": {},
   "source": [
    "## 魔术常量\n",
    "```\n",
    "__LINE__\t文件中的当前行号。\n",
    "__FILE__\t文件的完整路径和文件名。如果用在被包含文件中，则返回被包含的文件名。\n",
    "__DIR__\t文件所在的目录。如果用在被包括文件中，则返回被包括的文件所在的目录。它等价于 dirname(__FILE__)。除非是根目录，否则目录中名不包括末尾的斜杠。\n",
    "__FUNCTION__\t当前函数的名称。匿名函数则为 {closure}。\n",
    "__CLASS__\t当前类的名称。类名包括其被声明的作用域（例如 Foo\\Bar）。当用在 trait 方法中时，__CLASS__ 是调用 trait 方法的类的名字。\n",
    "__TRAIT__\tTrait 的名字。Trait 名包括其被声明的作用域（例如 Foo\\Bar）。\n",
    "__METHOD__\t类的方法名。\n",
    "__NAMESPACE__\t当前命名空间的名称。\n",
    "ClassName::class\t完整的类名。\n",
    "```"
   ]
  }
 ],
 "metadata": {
  "kernelspec": {
   "display_name": "Go (gonb)",
   "language": "go",
   "name": "gonb"
  },
  "language_info": {
   "name": "go"
  },
  "orig_nbformat": 4
 },
 "nbformat": 4,
 "nbformat_minor": 2
}
