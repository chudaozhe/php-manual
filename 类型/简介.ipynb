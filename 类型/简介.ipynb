{
 "cells": [
  {
   "attachments": {},
   "cell_type": "markdown",
   "metadata": {},
   "source": [
    "PHP 支持 10 种原始数据类型。\n",
    "\n",
    "四种标量类型：\n",
    "\n",
    "- bool（布尔型）\n",
    "- int（整型）\n",
    "- float（浮点型，也称作 double)\n",
    "- string（字符串）\n",
    "\n",
    "四种复合类型：\n",
    "\n",
    "- array（数组）\n",
    "- object（对象）\n",
    "- callable（可调用）\n",
    "- iterable（可迭代）\n",
    "\n",
    "最后是两种特殊类型：\n",
    "\n",
    "- resource（资源）\n",
    "- NULL（无类型）"
   ]
  }
 ],
 "metadata": {
  "language_info": {
   "name": "python"
  },
  "orig_nbformat": 4
 },
 "nbformat": 4,
 "nbformat_minor": 2
}
