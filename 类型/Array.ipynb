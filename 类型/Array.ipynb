{
 "cells": [
  {
   "attachments": {},
   "cell_type": "markdown",
   "metadata": {},
   "source": [
    "# Array 数组\n",
    "PHP 中的 array 实际上是一个有序映射。映射是一种把 values 关联到 keys 的类型。此类型针对多种不同用途进行了优化； 它可以被视为数组、列表（向量）、哈希表（映射的实现）、字典、集合、堆栈、队列等等。 由于 array 的值可以是其它 array 所以树形结构和多维 array 也是允许的。"
   ]
  },
  {
   "attachments": {},
   "cell_type": "markdown",
   "metadata": {},
   "source": [
    "## 语法\n",
    "```\n",
    "// 使用短数组语法\n",
    "$array = [\n",
    "    \"foo\" => \"bar\",\n",
    "    \"bar\" => \"foo\",\n",
    "];\n",
    "```"
   ]
  },
  {
   "attachments": {},
   "cell_type": "markdown",
   "metadata": {},
   "source": [
    "### 用方括号语法访问数组单元\n",
    "数组单元可以通过 `array[key]` 语法来访问。\n",
    "> 在 PHP 8.0.0 之前，方括号和花括号可以互换使用来访问数组单元（例如 `$array[42]` 和 `$array{42}` 在上例中效果相同）。 花括号语法在 PHP 7.4.0 中已弃用，在 PHP 8.0.0 中不再支持。"
   ]
  },
  {
   "attachments": {},
   "cell_type": "markdown",
   "metadata": {},
   "source": [
    "### 用方括号的语法新建／修改\n",
    "```\n",
    "$arr[key] = value;\n",
    "$arr[] = value;\n",
    "// key 可以是 int 或 string\n",
    "// value 可以是任意类型的值\n",
    "```"
   ]
  },
  {
   "attachments": {},
   "cell_type": "markdown",
   "metadata": {},
   "source": [
    "## 实用函数\n",
    "有很多操作数组的函数，参见 数组函数 一节。"
   ]
  },
  {
   "attachments": {},
   "cell_type": "markdown",
   "metadata": {},
   "source": [
    "## 数组做什么和不做什么\n",
    "\n",
    "### 为什么 $foo[bar] 错了？\n",
    "\n",
    "### 那么为什么这样做不好？"
   ]
  },
  {
   "attachments": {},
   "cell_type": "markdown",
   "metadata": {},
   "source": [
    "## 转换为数组"
   ]
  },
  {
   "cell_type": "code",
   "execution_count": 126,
   "metadata": {
    "vscode": {
     "languageId": "php"
    }
   },
   "outputs": [
    {
     "data": {
      "text/plain": [
       "array(1) {\n",
       "  [0]=>\n",
       "  string(2) \"aa\"\n",
       "}\n",
       "NULL\n"
      ]
     },
     "execution_count": 126,
     "metadata": {},
     "output_type": "execute_result"
    }
   ],
   "source": [
    "<?php\n",
    "var_dump((array)'aa');"
   ]
  },
  {
   "attachments": {},
   "cell_type": "markdown",
   "metadata": {},
   "source": [
    "## 比较\n",
    "可以用 array_diff() 函数和 数组运算符 来比较数组。"
   ]
  },
  {
   "attachments": {},
   "cell_type": "markdown",
   "metadata": {},
   "source": [
    "## 数组解包\n",
    "PHP 7.4.0 开始可以使用 ... 解包 array。"
   ]
  },
  {
   "cell_type": "code",
   "execution_count": 127,
   "metadata": {
    "vscode": {
     "languageId": "php"
    }
   },
   "outputs": [
    {
     "data": {
      "text/plain": [
       "array(1) {\n",
       "  [\"a\"]=>\n",
       "  int(2)\n",
       "}\n",
       "array(6) {\n",
       "  [0]=>\n",
       "  int(1)\n",
       "  [1]=>\n",
       "  int(2)\n",
       "  [2]=>\n",
       "  int(3)\n",
       "  [3]=>\n",
       "  int(4)\n",
       "  [4]=>\n",
       "  int(5)\n",
       "  [5]=>\n",
       "  int(6)\n",
       "}\n",
       "array(5) {\n",
       "  [0]=>\n",
       "  int(1)\n",
       "  [1]=>\n",
       "  int(2)\n",
       "  [2]=>\n",
       "  int(3)\n",
       "  [\"a\"]=>\n",
       "  int(4)\n",
       "  [3]=>\n",
       "  int(5)\n",
       "}\n",
       "NULL\n"
      ]
     },
     "execution_count": 127,
     "metadata": {},
     "output_type": "execute_result"
    }
   ],
   "source": [
    "<?php\n",
    "// string key\n",
    "$arr1 = [\"a\" => 1];\n",
    "$arr2 = [\"a\" => 2];\n",
    "$arr3 = [\"a\" => 0, ...$arr1, ...$arr2];\n",
    "var_dump($arr3); // [\"a\" => 2]\n",
    "\n",
    "// integer key\n",
    "$arr4 = [1, 2, 3];\n",
    "$arr5 = [4, 5, 6];\n",
    "$arr6 = [...$arr4, ...$arr5];\n",
    "var_dump($arr6); // [1, 2, 3, 4, 5, 6]\n",
    "\n",
    "//在 PHP 8.1 之前，带有 string 键的 array 无法解包：\n",
    "$arr1 = [1, 2, 3];\n",
    "$arr2 = ['a' => 4];\n",
    "$arr3 = [...$arr1, ...$arr2, ...[5]];\n",
    "var_dump($arr3);"
   ]
  }
 ],
 "metadata": {
  "kernelspec": {
   "display_name": "PHP",
   "language": "php",
   "name": "php"
  },
  "language_info": {
   "file_extension": ".php",
   "mimetype": "text/x-php",
   "name": "PHP",
   "pygments_lexer": "PHP",
   "version": "8.1.9"
  },
  "orig_nbformat": 4
 },
 "nbformat": 4,
 "nbformat_minor": 2
}
