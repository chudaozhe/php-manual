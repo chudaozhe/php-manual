{
 "cells": [
  {
   "attachments": {},
   "cell_type": "markdown",
   "metadata": {},
   "source": [
    "# 数字字符串\n",
    "\n",
    "如果一个 PHP string 可以被解释为 int 或 float 类型，则它被视为数字字符串。\n",
    "\n",
    "PHP 8.0.0 正式可用\n",
    "```\n",
    "<?php\n",
    "$foo = 1 + \"10.5\";                // $foo 是 float (11.5)\n",
    "$foo = 1 + \"-1.3e3\";              // $foo 是 float (-1299)\n",
    "$foo = 1 + \"bob-1.3e3\";           // PHP 8.0.0 起产生 TypeError；在此之前 $foo 是 integer (1)\n",
    "$foo = 1 + \"bob3\";                // PHP 8.0.0 起产生 TypeError；在此之前 $foo 是 integer (1)\n",
    "$foo = 1 + \"10 Small Pigs\";       // PHP 8.0.0 起，$foo 是 integer (11)，并且产生 E_WARNING；在此之前产生 E_NOTICE\n",
    "$foo = 4 + \"10.2 Little Piggies\"; // PHP 8.0.0 起，$foo 是 float (14.2)，并且产生 E_WARNING；在此之前产生 E_NOTICE\n",
    "$foo = \"10.0 pigs \" + 1;          // PHP 8.0.0 起，$foo 是 float (11)，并且产生 E_WARNING；在此之前产生 E_NOTICE\n",
    "$foo = \"10.0 pigs \" + 1.0;        // PHP 8.0.0 起，$foo 是 float (11)，并且产生 E_WARNING；在此之前产生 E_NOTICE\n",
    "\n",
    "```"
   ]
  }
 ],
 "metadata": {
  "language_info": {
   "name": "python"
  },
  "orig_nbformat": 4
 },
 "nbformat": 4,
 "nbformat_minor": 2
}
