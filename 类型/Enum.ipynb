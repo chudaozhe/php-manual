{
 "cells": [
  {
   "attachments": {},
   "cell_type": "markdown",
   "metadata": {},
   "source": [
    "# Enum 枚举\n",
    "8.1新增的"
   ]
  },
  {
   "attachments": {},
   "cell_type": "markdown",
   "metadata": {},
   "source": [
    "## 枚举基础\n",
    "枚举是在类、类常量基础上的约束层， 目标是提供一种能力：定义包含可能值的封闭集合类型。"
   ]
  },
  {
   "cell_type": "code",
   "execution_count": 132,
   "metadata": {
    "vscode": {
     "languageId": "php"
    }
   },
   "outputs": [
    {
     "data": {
      "text/plain": [
       "PHP Fatal error:  Cannot redeclare do_stuff() in eval()'d code on line 10"
      ]
     },
     "execution_count": 132,
     "metadata": {},
     "output_type": "execute_result"
    }
   ],
   "source": [
    "<?php\n",
    "enum Suit:string\n",
    "{\n",
    "    case Hearts='h';\n",
    "    case Diamonds='d';\n",
    "    case Clubs='c';\n",
    "    case Spades='s';\n",
    "}\n",
    "\n",
    "function do_stuff(Suit $s)\n",
    "{\n",
    "    var_dump($s->name);//Spades\n",
    "    var_dump($s->value);//s\n",
    "}\n",
    "\n",
    "do_stuff(Suit::Spades);"
   ]
  },
  {
   "attachments": {},
   "cell_type": "markdown",
   "metadata": {},
   "source": [
    "## 类型转换\n",
    "将 enum 转换为 object 不会有变化。 将 enum 转换为 array， 纯粹枚举会创建单个 name 键的数组； 回退枚举创建带 name 和 value 键的数组。 其他类型转换都会导致错误。"
   ]
  }
 ],
 "metadata": {
  "kernelspec": {
   "display_name": "PHP",
   "language": "php",
   "name": "php"
  },
  "language_info": {
   "file_extension": ".php",
   "mimetype": "text/x-php",
   "name": "PHP",
   "pygments_lexer": "PHP",
   "version": "8.1.9"
  },
  "orig_nbformat": 4
 },
 "nbformat": 4,
 "nbformat_minor": 2
}
