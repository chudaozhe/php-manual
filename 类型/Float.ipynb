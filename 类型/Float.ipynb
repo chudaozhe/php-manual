{
 "cells": [
  {
   "attachments": {},
   "cell_type": "markdown",
   "metadata": {},
   "source": [
    "# Float 浮点型\n",
    "浮点型（也叫浮点数 float，双精度数 double 或实数 real）可以用以下任一语法定义："
   ]
  },
  {
   "cell_type": "code",
   "execution_count": 134,
   "metadata": {
    "vscode": {
     "languageId": "php"
    }
   },
   "outputs": [
    {
     "data": {
      "text/plain": [
       "float(1.234)\n",
       "float(1200)\n",
       "float(7.0E-10)\n",
       "float(1234.567)\n",
       "NULL\n"
      ]
     },
     "execution_count": 134,
     "metadata": {},
     "output_type": "execute_result"
    }
   ],
   "source": [
    "<?php\n",
    "$a = 1.234; \n",
    "$b = 1.2e3; \n",
    "$c = 7E-10;\n",
    "$d = 1_234.567; // 从 PHP 7.4.0 开始支持\n",
    "var_dump($a, $b, $c, $d);"
   ]
  },
  {
   "attachments": {},
   "cell_type": "markdown",
   "metadata": {},
   "source": [
    "## 转换为浮点数"
   ]
  },
  {
   "attachments": {},
   "cell_type": "markdown",
   "metadata": {},
   "source": [
    "### 从 string 转换\n",
    "如果 string 是 numeric 或者前导数字， 则将它解析为相应的 float 值，否则将转换为零（0）。"
   ]
  },
  {
   "attachments": {},
   "cell_type": "markdown",
   "metadata": {},
   "source": [
    "### 从其他类型转换\n",
    "对于其它类型的值，其情况类似于先将值转换成 int，然后再转换成 float。 请参阅“转换为整型”一节以获取更多信息。\n",
    "\n",
    "> 某些类型在转换成 int 时有未定义行为，转换为 float 时也会如此。"
   ]
  },
  {
   "attachments": {},
   "cell_type": "markdown",
   "metadata": {},
   "source": [
    "## 比较浮点数\n",
    "如上述警告信息所言，由于内部表达方式的原因，比较两个浮点数是否相等是有问题的。不过还是有迂回的方法来比较浮点数值的。\n",
    "\n",
    "要测试浮点数是否相等，要使用一个仅比该数值大一丁点的最小误差值。该值也被称为机器极小值（epsilon）或最小单元取整数，是计算中所能接受的最小的差别值。\n",
    "\n",
    "$a 和 $b 在小数点后五位精度内都是相等的。"
   ]
  },
  {
   "cell_type": "code",
   "execution_count": 135,
   "metadata": {
    "vscode": {
     "languageId": "php"
    }
   },
   "outputs": [
    {
     "data": {
      "text/plain": [
       "true\n"
      ]
     },
     "execution_count": 135,
     "metadata": {},
     "output_type": "execute_result"
    }
   ],
   "source": [
    "<?php\n",
    "$a = 1.23456789;\n",
    "$b = 1.23456780;\n",
    "$epsilon = 0.00001;\n",
    "\n",
    "if(abs($a-$b) < $epsilon) {\n",
    "    echo \"true\";\n",
    "}"
   ]
  },
  {
   "attachments": {},
   "cell_type": "markdown",
   "metadata": {},
   "source": [
    "## NaN\n",
    "某些数学运算会产生一个由常量 NAN 所代表的结果。此结果代表着一个在浮点数运算中未定义或不可表述的值。任何拿此值与其它任何值（除了 true）进行的松散或严格比较的结果都是 false。\n",
    "\n",
    "由于 NAN 代表着任何不同值，不应拿 NAN 去和其它值进行比较，包括其自身，应该用 is_nan() 来检查。"
   ]
  }
 ],
 "metadata": {
  "kernelspec": {
   "display_name": "PHP",
   "language": "php",
   "name": "php"
  },
  "language_info": {
   "file_extension": ".php",
   "mimetype": "text/x-php",
   "name": "PHP",
   "pygments_lexer": "PHP",
   "version": "8.1.9"
  },
  "orig_nbformat": 4
 },
 "nbformat": 4,
 "nbformat_minor": 2
}
