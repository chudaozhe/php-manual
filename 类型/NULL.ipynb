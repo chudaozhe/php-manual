{
 "cells": [
  {
   "attachments": {},
   "cell_type": "markdown",
   "metadata": {},
   "source": [
    "# NULL\n",
    "\n",
    "特殊的 null 值表示一个变量没有值。NULL 类型唯一可能的值就是 null。\n",
    "\n",
    "在下列情况下一个变量被认为是 null：\n",
    "- 被赋值为 null。\n",
    "- 尚未被赋值。\n",
    "- 被 unset()。"
   ]
  },
  {
   "attachments": {},
   "cell_type": "markdown",
   "metadata": {},
   "source": [
    "## 语法\n",
    "null 类型只有一个值，就是不区分大小写的常量 null。\n",
    "```\n",
    "<?php\n",
    "$var = NULL;\n",
    "```"
   ]
  },
  {
   "attachments": {},
   "cell_type": "markdown",
   "metadata": {},
   "source": [
    "## 转换到 NULL\n",
    "> 本特性自 PHP 7.2.0 起废弃，并且自 PHP 8.0.0 起被移除。 强烈建议不要使用本特性。"
   ]
  }
 ],
 "metadata": {
  "language_info": {
   "name": "python"
  },
  "orig_nbformat": 4
 },
 "nbformat": 4,
 "nbformat_minor": 2
}
