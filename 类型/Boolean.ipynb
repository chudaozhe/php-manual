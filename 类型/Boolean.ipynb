{
 "cells": [
  {
   "attachments": {},
   "cell_type": "markdown",
   "metadata": {},
   "source": [
    "# Boolean 布尔类型\n",
    "\n",
    "这是最简单的类型。`bool` 表达了真值，可以为 `true` 或 `false`。"
   ]
  },
  {
   "attachments": {},
   "cell_type": "markdown",
   "metadata": {},
   "source": [
    "## 语法\n",
    "不区分大小写\n",
    "```\n",
    "<?php\n",
    "$foo = True;\n",
    "```"
   ]
  },
  {
   "attachments": {},
   "cell_type": "markdown",
   "metadata": {},
   "source": [
    "## 转换为布尔值\n",
    "要明确地将一个值转换成 bool，用 (bool) 或者 (boolean) 来强制转换。\n",
    "\n",
    "> -1 和其它非零值（不论正负）一样，被认为是 true！"
   ]
  }
 ],
 "metadata": {
  "language_info": {
   "name": "python"
  },
  "orig_nbformat": 4
 },
 "nbformat": 4,
 "nbformat_minor": 2
}
