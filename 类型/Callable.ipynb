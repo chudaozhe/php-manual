{
 "cells": [
  {
   "attachments": {},
   "cell_type": "markdown",
   "metadata": {},
   "source": [
    "# Callback / Callable 类型\n",
    "\n",
    "回调可以通过 callable 类型声明来表示。\n",
    "\n",
    "一些函数如 call_user_func() 或 usort() 可以接受用户自定义的回调函数作为参数。回调函数不止可以是简单函数，还可以是对象的方法，包括静态类方法。"
   ]
  },
  {
   "attachments": {},
   "cell_type": "markdown",
   "metadata": {},
   "source": [
    "## 传递\n",
    "\n",
    "示例 #1 回调函数示例"
   ]
  },
  {
   "cell_type": "code",
   "execution_count": 128,
   "metadata": {
    "vscode": {
     "languageId": "php"
    }
   },
   "outputs": [
    {
     "data": {
      "text/plain": [
       "PHP Fatal error:  Class named MyClass already exists in eval()'d code on line 9"
      ]
     },
     "execution_count": 128,
     "metadata": {},
     "output_type": "execute_result"
    }
   ],
   "source": [
    "<?php \n",
    "\n",
    "// 回调函数示范\n",
    "function my_callback_function() {\n",
    "    echo 'hello world!';\n",
    "}\n",
    "\n",
    "// 回调方法示范\n",
    "class MyClass {\n",
    "    static function myCallbackMethod() {\n",
    "        echo 'Hello World!';\n",
    "    }\n",
    "}\n",
    "\n",
    "// 类型 1：简单的回调\n",
    "call_user_func('my_callback_function'); \n",
    "\n",
    "// 类型 2：静态类方法回调\n",
    "call_user_func(array('MyClass', 'myCallbackMethod')); \n",
    "\n",
    "// 类型 3：对象方法回调\n",
    "$obj = new MyClass();\n",
    "call_user_func(array($obj, 'myCallbackMethod'));\n",
    "\n",
    "// 类型 4：静态类方法回调\n",
    "call_user_func('MyClass::myCallbackMethod');\n",
    "\n",
    "// 类型 5：父级静态类回调\n",
    "class A {\n",
    "    public static function who() {\n",
    "        echo \"A\\n\";\n",
    "    }\n",
    "}\n",
    "\n",
    "class B extends A {\n",
    "    public static function who() {\n",
    "        echo \"B\\n\";\n",
    "    }\n",
    "}\n",
    "\n",
    "call_user_func(array('B', 'parent::who')); // A\n",
    "\n",
    "// 类型 6：实现 __invoke 的对象用于回调\n",
    "class C {\n",
    "    public function __invoke($name) {\n",
    "        echo 'Hello ', $name, \"\\n\";\n",
    "    }\n",
    "}\n",
    "\n",
    "$c = new C();\n",
    "call_user_func($c, 'PHP!');"
   ]
  },
  {
   "attachments": {},
   "cell_type": "markdown",
   "metadata": {},
   "source": [
    "示例 #2 使用 Closure 的示例"
   ]
  },
  {
   "cell_type": "code",
   "execution_count": 129,
   "metadata": {
    "vscode": {
     "languageId": "php"
    }
   },
   "outputs": [
    {
     "data": {
      "text/plain": [
       "2 4 6 8 10\n"
      ]
     },
     "execution_count": 129,
     "metadata": {},
     "output_type": "execute_result"
    }
   ],
   "source": [
    "<?php\n",
    "// 闭包\n",
    "$double = function($a) {\n",
    "    return $a * 2;\n",
    "};\n",
    "\n",
    "// 这是数字范围\n",
    "$numbers = range(1, 5);\n",
    "\n",
    "// 这里使用闭包作为回调，\n",
    "// 将范围内的每个元素数值翻倍\n",
    "$new_numbers = array_map($double, $numbers);\n",
    "\n",
    "print implode(' ', $new_numbers);//2 4 6 8 10"
   ]
  }
 ],
 "metadata": {
  "kernelspec": {
   "display_name": "PHP",
   "language": "php",
   "name": "php"
  },
  "language_info": {
   "file_extension": ".php",
   "mimetype": "text/x-php",
   "name": "PHP",
   "pygments_lexer": "PHP",
   "version": "8.1.9"
  },
  "orig_nbformat": 4
 },
 "nbformat": 4,
 "nbformat_minor": 2
}
