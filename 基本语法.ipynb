{
 "cells": [
  {
   "attachments": {},
   "cell_type": "markdown",
   "metadata": {},
   "source": [
    "## PHP 标记\n",
    "当解析一个文件时，`PHP` 会寻找起始和结束标记，也就是 `<?php` 和 `?>`，这告诉 `PHP` 开始和停止解析二者之间的代码。此种解析方式使得 `PHP` 可以被嵌入到各种不同的文档中去，而任何起始和结束标记之外的部分都会被 `PHP` 解析器忽略。\n",
    "\n",
    "`PHP` 有一个 `echo` 标记简写 `<?=`， 它是更完整的 `<?php echo` 的简写形式。\n",
    "\n",
    "标准"
   ]
  },
  {
   "cell_type": "code",
   "execution_count": 22,
   "metadata": {
    "vscode": {
     "languageId": "php"
    }
   },
   "outputs": [
    {
     "data": {
      "text/plain": [
       "abc\n"
      ]
     },
     "execution_count": 22,
     "metadata": {},
     "output_type": "execute_result"
    }
   ],
   "source": [
    "<?php echo 'abc'; ?>"
   ]
  },
  {
   "attachments": {},
   "cell_type": "markdown",
   "metadata": {},
   "source": [
    "简写"
   ]
  },
  {
   "cell_type": "markdown",
   "metadata": {},
   "source": [
    "```\n",
    "<?='abc'?>\n",
    "```"
   ]
  },
  {
   "attachments": {},
   "cell_type": "markdown",
   "metadata": {},
   "source": [
    "短标记，默认开启"
   ]
  },
  {
   "cell_type": "code",
   "execution_count": 23,
   "metadata": {
    "vscode": {
     "languageId": "php"
    }
   },
   "outputs": [
    {
     "data": {
      "text/plain": [
       "abc\n"
      ]
     },
     "execution_count": 23,
     "metadata": {},
     "output_type": "execute_result"
    }
   ],
   "source": [
    "<? echo 'abc'; ?>"
   ]
  },
  {
   "attachments": {},
   "cell_type": "markdown",
   "metadata": {},
   "source": [
    "## 从 HTML 中分离"
   ]
  },
  {
   "attachments": {},
   "cell_type": "markdown",
   "metadata": {},
   "source": [
    "```\n",
    "<?php if($a==0): ?>\n",
    "000000000000\n",
    "<?php else: ?>\n",
    "111111111\n",
    "<?php endif; ?>\n",
    "```"
   ]
  },
  {
   "attachments": {},
   "cell_type": "markdown",
   "metadata": {},
   "source": [
    "## 指令分隔符"
   ]
  },
  {
   "attachments": {},
   "cell_type": "markdown",
   "metadata": {},
   "source": [
    "```\n",
    "<?php echo \"Some text\"; ?>\n",
    "No newline\n",
    "<?= \"But newline now\" ?>\n",
    "```"
   ]
  },
  {
   "attachments": {},
   "cell_type": "markdown",
   "metadata": {},
   "source": [
    "## 注释"
   ]
  },
  {
   "cell_type": "code",
   "execution_count": 24,
   "metadata": {
    "vscode": {
     "languageId": "php"
    }
   },
   "outputs": [
    {
     "data": {
      "text/plain": [
       "This is a testThis is yet another testOne Final Test\n"
      ]
     },
     "execution_count": 24,
     "metadata": {},
     "output_type": "execute_result"
    }
   ],
   "source": [
    "<?php\n",
    "    echo 'This is a test'; // 这是单行 c++ 样式注释\n",
    "    /* 这是一条多行注释\n",
    "       另一行也是注释 */\n",
    "    echo 'This is yet another test';\n",
    "    echo 'One Final Test'; # 这是单行 shell 风格的注释"
   ]
  }
 ],
 "metadata": {
  "kernelspec": {
   "display_name": "PHP",
   "language": "php",
   "name": "php"
  },
  "language_info": {
   "file_extension": ".php",
   "mimetype": "text/x-php",
   "name": "PHP",
   "pygments_lexer": "PHP",
   "version": "8.1.9"
  },
  "orig_nbformat": 4
 },
 "nbformat": 4,
 "nbformat_minor": 2
}
