{
 "cells": [
  {
   "attachments": {},
   "cell_type": "markdown",
   "metadata": {},
   "source": [
    "# 变量范围\n",
    "变量的范围即它定义的上下文背景（也就是它的生效范围）。大部分的 PHP 变量只有一个单独的范围。这个单独的范围跨度同样包含了 include 和 require 引入的文件。例如："
   ]
  },
  {
   "cell_type": "code",
   "execution_count": 87,
   "metadata": {
    "vscode": {
     "languageId": "php"
    }
   },
   "outputs": [
    {
     "data": {
      "text/plain": [
       "PHP Fatal error:  Cannot redeclare Test() in eval()'d code on line 4"
      ]
     },
     "execution_count": 87,
     "metadata": {},
     "output_type": "execute_result"
    }
   ],
   "source": [
    "<?php\n",
    "$a = 1; /* global scope */\n",
    "\n",
    "function Test()\n",
    "{\n",
    "    echo $a; /* 提示$a未定义 */\n",
    "}\n",
    "\n",
    "Test();"
   ]
  },
  {
   "attachments": {},
   "cell_type": "markdown",
   "metadata": {},
   "source": [
    "## global 关键字"
   ]
  },
  {
   "cell_type": "code",
   "execution_count": 88,
   "metadata": {
    "vscode": {
     "languageId": "php"
    }
   },
   "outputs": [
    {
     "data": {
      "text/plain": [
       "PHP Fatal error:  Cannot redeclare Sum() in eval()'d code on line 5"
      ]
     },
     "execution_count": 88,
     "metadata": {},
     "output_type": "execute_result"
    }
   ],
   "source": [
    "<?php\n",
    "$a = 1;\n",
    "$b = 2;\n",
    "\n",
    "function Sum()\n",
    "{\n",
    "    global $a, $b;\n",
    "\n",
    "    $b = $a + $b;\n",
    "}\n",
    "\n",
    "Sum();\n",
    "echo $b;//3"
   ]
  },
  {
   "attachments": {},
   "cell_type": "markdown",
   "metadata": {},
   "source": [
    "示例 #2 使用 $GLOBALS 替代 global"
   ]
  },
  {
   "cell_type": "code",
   "execution_count": 89,
   "metadata": {
    "vscode": {
     "languageId": "php"
    }
   },
   "outputs": [
    {
     "data": {
      "text/plain": [
       "PHP Fatal error:  Cannot redeclare Sum() in eval()'d code on line 5"
      ]
     },
     "execution_count": 89,
     "metadata": {},
     "output_type": "execute_result"
    }
   ],
   "source": [
    "<?php\n",
    "$a = 1;\n",
    "$b = 2;\n",
    "\n",
    "function Sum()\n",
    "{\n",
    "    $GLOBALS['b'] = $GLOBALS['a'] + $GLOBALS['b'];\n",
    "}\n",
    "\n",
    "Sum();\n",
    "echo $b;"
   ]
  },
  {
   "attachments": {},
   "cell_type": "markdown",
   "metadata": {},
   "source": [
    "## 使用静态变量\n",
    "示例 #5 使用静态变量的例子"
   ]
  },
  {
   "cell_type": "code",
   "execution_count": 90,
   "metadata": {
    "vscode": {
     "languageId": "php"
    }
   },
   "outputs": [
    {
     "data": {
      "text/plain": [
       "PHP Fatal error:  Cannot redeclare test() in eval()'d code on line 2"
      ]
     },
     "execution_count": 90,
     "metadata": {},
     "output_type": "execute_result"
    }
   ],
   "source": [
    "<?php\n",
    "function test()\n",
    "{\n",
    "    static $a = 0;\n",
    "    echo $a;\n",
    "    $a++;\n",
    "}\n",
    "test();"
   ]
  }
 ],
 "metadata": {
  "kernelspec": {
   "display_name": "PHP",
   "language": "php",
   "name": "php"
  },
  "language_info": {
   "file_extension": ".php",
   "mimetype": "text/x-php",
   "name": "PHP",
   "pygments_lexer": "PHP",
   "version": "8.1.9"
  },
  "orig_nbformat": 4
 },
 "nbformat": 4,
 "nbformat_minor": 2
}
