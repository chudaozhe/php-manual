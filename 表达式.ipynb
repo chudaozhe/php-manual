{
 "cells": [
  {
   "attachments": {},
   "cell_type": "markdown",
   "metadata": {},
   "source": [
    "表达式是 PHP 最重要的构建部分。在 PHP 中，几乎所写的任何东西都是一个表达式。简单但却最精确的定义一个表达式的方式就是“任何有值的东西”。\n",
    "\n",
    "PHP 是一种面向表达式的语言，从这一方面来讲几乎一切都是表达式。\n",
    "\n",
    "- 最基本的表达式形式是常量和变量。\n",
    "\n",
    "- 稍微复杂的表达式例子就是函数。\n",
    "\n",
    "- 运算赋值表达式\n",
    "\n",
    "- 比较表达式\n",
    "\n",
    "- 自增自减表达式"
   ]
  }
 ],
 "metadata": {
  "kernelspec": {
   "display_name": "Go (gonb)",
   "language": "go",
   "name": "gonb"
  },
  "language_info": {
   "name": "go"
  },
  "orig_nbformat": 4
 },
 "nbformat": 4,
 "nbformat_minor": 2
}
