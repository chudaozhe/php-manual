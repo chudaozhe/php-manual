{
 "cells": [
  {
   "attachments": {},
   "cell_type": "markdown",
   "metadata": {},
   "source": [
    "# 运算符"
   ]
  },
  {
   "attachments": {},
   "cell_type": "markdown",
   "metadata": {},
   "source": [
    "## 运算符优先级"
   ]
  },
  {
   "attachments": {},
   "cell_type": "markdown",
   "metadata": {},
   "source": [
    "## 算术运算符\n",
    "取模运算符 % 的结果和被除数的符号（正负号）相同。即 $a % $b 的结果和 $a 的符号相同。例如："
   ]
  },
  {
   "cell_type": "code",
   "execution_count": 29,
   "metadata": {
    "vscode": {
     "languageId": "php"
    }
   },
   "outputs": [
    {
     "data": {
      "text/plain": [
       "2\n",
       "2\n",
       "-2\n",
       "-2\n"
      ]
     },
     "execution_count": 29,
     "metadata": {},
     "output_type": "execute_result"
    }
   ],
   "source": [
    "<?php\n",
    "echo (5 % 3).\"\\n\";           // 打印 2\n",
    "echo (5 % -3).\"\\n\";          // 打印 2\n",
    "echo (-5 % 3).\"\\n\";          // 打印 -2\n",
    "echo (-5 % -3).\"\\n\";         // 打印 -2"
   ]
  },
  {
   "attachments": {},
   "cell_type": "markdown",
   "metadata": {},
   "source": [
    "## 赋值运算符\n",
    "基本的赋值运算符是“=”。"
   ]
  },
  {
   "attachments": {},
   "cell_type": "markdown",
   "metadata": {},
   "source": [
    "### 引用赋值"
   ]
  },
  {
   "cell_type": "code",
   "execution_count": 30,
   "metadata": {
    "vscode": {
     "languageId": "php"
    }
   },
   "outputs": [
    {
     "data": {
      "text/plain": []
     },
     "execution_count": 30,
     "metadata": {},
     "output_type": "execute_result"
    }
   ],
   "source": [
    "<?php\n",
    "$a = 3;\n",
    "$b = &$a; // $b 是 $a 的引用"
   ]
  },
  {
   "attachments": {},
   "cell_type": "markdown",
   "metadata": {},
   "source": [
    "### 算术赋值运算符"
   ]
  },
  {
   "cell_type": "code",
   "execution_count": 32,
   "metadata": {
    "vscode": {
     "languageId": "php"
    }
   },
   "outputs": [
    {
     "data": {
      "text/plain": []
     },
     "execution_count": 32,
     "metadata": {},
     "output_type": "execute_result"
    }
   ],
   "source": [
    "<?php\n",
    "$a += $b;//$a = $a + $b"
   ]
  },
  {
   "attachments": {},
   "cell_type": "markdown",
   "metadata": {},
   "source": [
    "### 位赋值运算符"
   ]
  },
  {
   "attachments": {},
   "cell_type": "markdown",
   "metadata": {},
   "source": [
    "### 其他赋值运算符"
   ]
  },
  {
   "cell_type": "code",
   "execution_count": 31,
   "metadata": {
    "vscode": {
     "languageId": "php"
    }
   },
   "outputs": [
    {
     "data": {
      "text/plain": []
     },
     "execution_count": 31,
     "metadata": {},
     "output_type": "execute_result"
    }
   ],
   "source": [
    "<?php\n",
    "$a .= $b;//$a = $a . $b\n",
    "$a ??= $b;//$a = $a ?? $b; NULL 合并"
   ]
  },
  {
   "attachments": {},
   "cell_type": "markdown",
   "metadata": {},
   "source": [
    "## 位运算符\n",
    "位运算符允许对整型数中指定的位进行求值和操作。"
   ]
  },
  {
   "attachments": {},
   "cell_type": "markdown",
   "metadata": {},
   "source": [
    "## 比较运算符\n",
    "`$a <=> $b`太空船运算符（组合比较符）\n",
    "\n",
    "当`$a`小于、等于、大于`$b`时 分别返回一个小于、等于、大于0的 `int` 值。"
   ]
  },
  {
   "attachments": {},
   "cell_type": "markdown",
   "metadata": {},
   "source": [
    "### 三元运算符"
   ]
  },
  {
   "attachments": {},
   "cell_type": "markdown",
   "metadata": {},
   "source": [
    "```\n",
    "$action = (empty($_POST['action'])) ? 'default' : $_POST['action'];\n",
    "```"
   ]
  },
  {
   "attachments": {},
   "cell_type": "markdown",
   "metadata": {},
   "source": [
    "### NULL 合并运算符"
   ]
  },
  {
   "cell_type": "code",
   "execution_count": 33,
   "metadata": {
    "vscode": {
     "languageId": "php"
    }
   },
   "outputs": [
    {
     "data": {
      "text/plain": [
       "1\n"
      ]
     },
     "execution_count": 33,
     "metadata": {},
     "output_type": "execute_result"
    }
   ],
   "source": [
    "<?php\n",
    "// NULL 合并运算符的例子\n",
    "$action = $_POST['action'] ?? 'default';\n",
    "\n",
    "//嵌套 NULL 合并运算符\n",
    "$foo = null;\n",
    "$bar = null;\n",
    "$baz = 1;\n",
    "$qux = 2;\n",
    "\n",
    "echo $foo ?? $bar ?? $baz ?? $qux; // 输出 1"
   ]
  },
  {
   "attachments": {},
   "cell_type": "markdown",
   "metadata": {},
   "source": [
    "## 错误控制运算符\n",
    "\n",
    "PHP 支持一个错误控制运算符：@。当将其放置在一个 PHP 表达式之前，该表达式可能产生的任何错误诊断都被抑制。\n",
    "\n",
    "PHP 8.0.0 之前，如果诊断被抑制，则传递给自定义错误处理函数的严重性值则始终为 0 。 PHP 8.0.0 起，情况则不再如此。"
   ]
  },
  {
   "attachments": {},
   "cell_type": "markdown",
   "metadata": {},
   "source": [
    "## 执行运算符\n",
    "\n",
    "PHP 支持一个执行运算符：反引号（\\`\\`）。使用反引号运算符“\\`\\`”的效果与函数 `shell_exec()` 相同。"
   ]
  },
  {
   "cell_type": "code",
   "execution_count": 34,
   "metadata": {
    "vscode": {
     "languageId": "php"
    }
   },
   "outputs": [
    {
     "data": {
      "text/plain": [
       "<pre>total 12\n",
       "drwxr-xr-x 5 root root  160 May 21 10:34 .\n",
       "drwxr-xr-x 1 root root 4096 May 21 10:27 ..\n",
       "drwxr-xr-x 4 root root  128 May 21 10:31 .ipynb_checkpoints\n",
       "-rw-r--r-- 1 root root 2338 May 21 10:34 Untitled.ipynb\n",
       "-rw-r--r-- 1 root root 2386 May 21 08:50 Untitled1.ipynb\n",
       "</pre>\n"
      ]
     },
     "execution_count": 34,
     "metadata": {},
     "output_type": "execute_result"
    }
   ],
   "source": [
    "<?php\n",
    "$output = `ls -al`;\n",
    "echo \"<pre>$output</pre>\";"
   ]
  },
  {
   "attachments": {},
   "cell_type": "markdown",
   "metadata": {},
   "source": [
    "> 关闭了 shell_exec() 时反引号运算符是无效的。"
   ]
  },
  {
   "attachments": {},
   "cell_type": "markdown",
   "metadata": {},
   "source": [
    "## 递增／递减运算符\n",
    "> 注意: 递增／递减运算符不影响布尔值。递减 null 值也没有效果，但是递增 null 的结果是 1。\n",
    "\n",
    "```\n",
    "++$a\t前加\t$a 的值加一，然后返回 $a。\n",
    "$a++\t后加\t返回 $a，然后将 $a 的值加一。\n",
    "--$a\t前减\t$a 的值减一， 然后返回 $a。\n",
    "$a--\t后减\t返回 $a，然后将 $a 的值减一。\n",
    "```"
   ]
  },
  {
   "attachments": {},
   "cell_type": "markdown",
   "metadata": {},
   "source": [
    "## 逻辑运算符\n",
    "```\n",
    "$a and $b\tAnd（逻辑与）\ttrue，如果 $a 和 $b 都为 true。\n",
    "$a or $b\tOr（逻辑或）\ttrue，如果 $a 或 $b 任一为 true。\n",
    "$a xor $b\tXor（逻辑异或）\ttrue，如果 $a 或 $b 任一为 true，但不同时是。\n",
    "! $a\tNot（逻辑非）\ttrue，如果 $a 不为 true。\n",
    "$a && $b\tAnd（逻辑与）\ttrue，如果 $a 和 $b 都为 true。\n",
    "$a || $b\tOr（逻辑或）\ttrue，如果 $a 或 $b 任一为 true。\n",
    "```"
   ]
  },
  {
   "attachments": {},
   "cell_type": "markdown",
   "metadata": {},
   "source": [
    "示例 #1 逻辑运算符示例"
   ]
  },
  {
   "cell_type": "code",
   "execution_count": 35,
   "metadata": {
    "vscode": {
     "languageId": "php"
    }
   },
   "outputs": [
    {
     "data": {
      "text/plain": [
       "PHP Fatal error:  Call to undefined function foo() in eval()'d code on line 6"
      ]
     },
     "execution_count": 35,
     "metadata": {},
     "output_type": "execute_result"
    }
   ],
   "source": [
    "<?php\n",
    "\n",
    "// --------------------\n",
    "// foo() 根本没机会被调用，被运算符“短路”了\n",
    "\n",
    "$a = (false && foo());\n",
    "$b = (true  || foo());\n",
    "$c = (false and foo());\n",
    "$d = (true  or  foo());"
   ]
  },
  {
   "attachments": {},
   "cell_type": "markdown",
   "metadata": {},
   "source": [
    "## 字符串运算符\n",
    "有两个字符串（string）运算符。第一个是连接运算符（“.”），它返回其左右参数连接后的字符串。第二个是连接赋值运算符（“.=”），它将右边参数附加到左边的参数之后。"
   ]
  },
  {
   "cell_type": "code",
   "execution_count": 36,
   "metadata": {
    "vscode": {
     "languageId": "php"
    }
   },
   "outputs": [
    {
     "data": {
      "text/plain": [
       "string(12) \"Hello World!\"\n",
       "string(12) \"Hello World!\"\n",
       "NULL\n"
      ]
     },
     "execution_count": 36,
     "metadata": {},
     "output_type": "execute_result"
    }
   ],
   "source": [
    "<?php\n",
    "$a = \"Hello \";\n",
    "$b = $a . \"World!\"; // 现在 $b 包含 \"Hello World!\"\n",
    "\n",
    "$a = \"Hello \";\n",
    "$a .= \"World!\";     // 现在 $a 包含 \"Hello World!\"\n",
    "var_dump($a, $b);"
   ]
  },
  {
   "attachments": {},
   "cell_type": "markdown",
   "metadata": {},
   "source": [
    "## 数组运算符\n",
    "```\n",
    "$a + $b\t联合\t$a 和 $b 的联合。\n",
    "$a == $b\t相等\t如果 $a 和 $b 具有相同的键／值对则为 true。\n",
    "$a === $b\t全等\t如果 $a 和 $b 具有相同的键／值对并且顺序和类型都相同则为 true。\n",
    "$a != $b\t不等\t如果 $a 不等于 $b 则为 true。\n",
    "$a <> $b\t不等\t如果 $a 不等于 $b 则为 true。\n",
    "$a !== $b\t不全等\t如果 $a 不全等于 $b 则为 true\n",
    "```\n",
    "\n",
    "`+` 运算符把右边的数组元素附加到左边的数组后面，两个数组中都有的键名，则只用左边数组中的，右边的被忽略。"
   ]
  },
  {
   "cell_type": "code",
   "execution_count": 37,
   "metadata": {
    "vscode": {
     "languageId": "php"
    }
   },
   "outputs": [
    {
     "data": {
      "text/plain": [
       "Union of $a and $b: \n",
       "array(3) {\n",
       "  [\"a\"]=>\n",
       "  string(5) \"apple\"\n",
       "  [\"b\"]=>\n",
       "  string(6) \"banana\"\n",
       "  [\"c\"]=>\n",
       "  string(6) \"cherry\"\n",
       "}\n",
       "NULL\n"
      ]
     },
     "execution_count": 37,
     "metadata": {},
     "output_type": "execute_result"
    }
   ],
   "source": [
    "<?php\n",
    "$a = array(\"a\" => \"apple\", \"b\" => \"banana\");\n",
    "$b = array(\"a\" => \"pear\", \"b\" => \"strawberry\", \"c\" => \"cherry\");\n",
    "\n",
    "//key相同则忽略右边的(索引数组和关联数组 都是这样)\n",
    "$c = $a + $b; // $a 和 $b 的并集\n",
    "echo \"Union of \\$a and \\$b: \\n\";\n",
    "var_dump($c);"
   ]
  },
  {
   "attachments": {},
   "cell_type": "markdown",
   "metadata": {},
   "source": [
    "示例 #1 比较数组"
   ]
  },
  {
   "cell_type": "code",
   "execution_count": 38,
   "metadata": {
    "vscode": {
     "languageId": "php"
    }
   },
   "outputs": [
    {
     "data": {
      "text/plain": [
       "bool(true)\n",
       "bool(false)\n"
      ]
     },
     "execution_count": 38,
     "metadata": {},
     "output_type": "execute_result"
    }
   ],
   "source": [
    "<?php\n",
    "$a = array(\"apple\", \"banana\");\n",
    "$b = array(1 => \"banana\", \"0\" => \"apple\");\n",
    "\n",
    "var_dump($a == $b); // bool(true)\n",
    "var_dump($a === $b); // bool(false)"
   ]
  },
  {
   "attachments": {},
   "cell_type": "markdown",
   "metadata": {},
   "source": [
    "## 类型运算符\n",
    "instanceof 用于确定一个 PHP 变量是否属于某一类 class 的实例：\n",
    "\n",
    "示例 #1 对类使用 instanceof"
   ]
  },
  {
   "cell_type": "code",
   "execution_count": 60,
   "metadata": {
    "vscode": {
     "languageId": "php"
    }
   },
   "outputs": [
    {
     "data": {
      "text/plain": [
       "PHP Fatal error:  Class named MyClass already exists in eval()'d code on line 2"
      ]
     },
     "execution_count": 60,
     "metadata": {},
     "output_type": "execute_result"
    }
   ],
   "source": [
    "<?php\n",
    "class MyClass\n",
    "{\n",
    "}\n",
    "\n",
    "class NotMyClass\n",
    "{\n",
    "}\n",
    "$a = new MyClass;\n",
    "\n",
    "var_dump($a instanceof MyClass);//true\n",
    "var_dump($a instanceof NotMyClass);//false"
   ]
  }
 ],
 "metadata": {
  "kernelspec": {
   "display_name": "PHP",
   "language": "php",
   "name": "php"
  },
  "language_info": {
   "file_extension": ".php",
   "mimetype": "text/x-php",
   "name": "PHP",
   "pygments_lexer": "PHP",
   "version": "8.1.9"
  },
  "orig_nbformat": 4
 },
 "nbformat": 4,
 "nbformat_minor": 2
}
