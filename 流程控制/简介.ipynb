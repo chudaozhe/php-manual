{
 "cells": [
  {
   "attachments": {},
   "cell_type": "markdown",
   "metadata": {},
   "source": [
    "# 简介\n",
    "\n",
    "以下也被认为是语言结构，尽管在手册中它们是在函数下引用的。\n",
    "\n",
    "- list()\n",
    "- array()\n",
    "- echo\n",
    "- eval()\n",
    "- print"
   ]
  }
 ],
 "metadata": {
  "language_info": {
   "name": "python"
  },
  "orig_nbformat": 4
 },
 "nbformat": 4,
 "nbformat_minor": 2
}
