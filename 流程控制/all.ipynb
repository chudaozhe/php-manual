{
 "cells": [
  {
   "attachments": {},
   "cell_type": "markdown",
   "metadata": {},
   "source": [
    "## if"
   ]
  },
  {
   "attachments": {},
   "cell_type": "markdown",
   "metadata": {},
   "source": [
    "## else"
   ]
  },
  {
   "attachments": {},
   "cell_type": "markdown",
   "metadata": {},
   "source": [
    "## elseif/else if\n",
    "如果用冒号来定义 `if/elseif` 条件，那就不能用两个单词的 `else if`"
   ]
  },
  {
   "cell_type": "code",
   "execution_count": 71,
   "metadata": {
    "vscode": {
     "languageId": "php"
    }
   },
   "outputs": [
    {
     "data": {
      "text/plain": [
       "1 equals 1\n"
      ]
     },
     "execution_count": 71,
     "metadata": {},
     "output_type": "execute_result"
    }
   ],
   "source": [
    "<?php\n",
    "/* 正确的使用方法： */\n",
    "$a=$b=1;\n",
    "if ($a > $b):\n",
    "    echo $a.\" is greater than \".$b;\n",
    "elseif ($a == $b): // 注意使用了一个单词的 elseif\n",
    "    echo $a.\" equals \".$b;\n",
    "else:\n",
    "    echo $a.\" is neither greater than or equal to \".$b;\n",
    "endif;"
   ]
  },
  {
   "attachments": {},
   "cell_type": "markdown",
   "metadata": {},
   "source": [
    "## 流程控制的替代语法\n",
    "PHP 提供了一些流程控制的替代语法，包括 `if`，`while`，`for`，`foreach` 和 `switch`。替代语法的基本形式是把左花括号（`{`）换成冒号（`:`），把右花括号（`}`）分别换成 `endif;`，`endwhile;`，`endfor;`，`endforeach;` 以及 `endswitch;`。"
   ]
  },
  {
   "cell_type": "code",
   "execution_count": 72,
   "metadata": {
    "vscode": {
     "languageId": "php"
    }
   },
   "outputs": [
    {
     "data": {
      "text/plain": [
       "a is neither 5 nor 6\n"
      ]
     },
     "execution_count": 72,
     "metadata": {},
     "output_type": "execute_result"
    }
   ],
   "source": [
    "<?php\n",
    "if ($a == 5):\n",
    "    echo \"a equals 5\";\n",
    "    echo \"...\";\n",
    "elseif ($a == 6):\n",
    "    echo \"a equals 6\";\n",
    "    echo \"!!!\";\n",
    "else:\n",
    "    echo \"a is neither 5 nor 6\";\n",
    "endif;"
   ]
  },
  {
   "attachments": {},
   "cell_type": "markdown",
   "metadata": {},
   "source": [
    "> 不支持在同一个控制块内混合使用两种语法。"
   ]
  },
  {
   "attachments": {},
   "cell_type": "markdown",
   "metadata": {},
   "source": [
    "## while\n",
    "while 循环是 PHP 中最简单的循环类型。它和 C 语言中的 while 表现地一样。while 语句的基本格式是：\n",
    "```\n",
    "while (expr)\n",
    "statement\n",
    "```\n",
    "\n",
    "下面两个例子完全一样，都显示数字 1 到 10："
   ]
  },
  {
   "cell_type": "code",
   "execution_count": 73,
   "metadata": {
    "vscode": {
     "languageId": "php"
    }
   },
   "outputs": [
    {
     "data": {
      "text/plain": [
       "1234567891012345678910\n"
      ]
     },
     "execution_count": 73,
     "metadata": {},
     "output_type": "execute_result"
    }
   ],
   "source": [
    "<?php\n",
    "/* 示例 1 */\n",
    "\n",
    "$i = 1;\n",
    "while ($i <= 10) {\n",
    "    echo $i++;  /* 在自增前（后自增）打印的值将会是 $i */\n",
    "}\n",
    "\n",
    "/* 示例 2 */\n",
    "\n",
    "$i = 1;\n",
    "while ($i <= 10):\n",
    "    print $i;\n",
    "    $i++;\n",
    "endwhile;"
   ]
  },
  {
   "attachments": {},
   "cell_type": "markdown",
   "metadata": {},
   "source": [
    "## do-while\n",
    "至少执行一次"
   ]
  },
  {
   "cell_type": "code",
   "execution_count": 74,
   "metadata": {
    "vscode": {
     "languageId": "php"
    }
   },
   "outputs": [
    {
     "data": {
      "text/plain": [
       "0\n"
      ]
     },
     "execution_count": 74,
     "metadata": {},
     "output_type": "execute_result"
    }
   ],
   "source": [
    "<?php\n",
    "$i = 0;\n",
    "do {\n",
    "   echo $i;//0\n",
    "} while ($i > 0);"
   ]
  },
  {
   "attachments": {},
   "cell_type": "markdown",
   "metadata": {},
   "source": [
    "## for\n",
    "考虑以下的例子，它们都显示数字 1 到 10："
   ]
  },
  {
   "cell_type": "code",
   "execution_count": 75,
   "metadata": {
    "vscode": {
     "languageId": "php"
    }
   },
   "outputs": [
    {
     "data": {
      "text/plain": [
       "12345678910123456789101234567891012345678910\n"
      ]
     },
     "execution_count": 75,
     "metadata": {},
     "output_type": "execute_result"
    }
   ],
   "source": [
    "<?php\n",
    "/* 示例 1 */\n",
    "\n",
    "for ($i = 1; $i <= 10; $i++) {\n",
    "    echo $i;\n",
    "}\n",
    "\n",
    "/* 示例 2 */\n",
    "\n",
    "for ($i = 1; ; $i++) {\n",
    "    if ($i > 10) {\n",
    "        break;\n",
    "    }\n",
    "    echo $i;\n",
    "}\n",
    "\n",
    "/* 示例 3 */\n",
    "\n",
    "$i = 1;\n",
    "for (;;) {\n",
    "    if ($i > 10) {\n",
    "        break;\n",
    "    }\n",
    "    echo $i;\n",
    "    $i++;\n",
    "}\n",
    "\n",
    "/* 示例 4 */\n",
    "\n",
    "for ($i = 1, $j = 0; $i <= 10; $j += $i, print $i, $i++);\n",
    "\n",
    "// 有时经常需要像下面这样例子一样对数组进行遍历：\n",
    "<?php\n",
    "$people = Array(\n",
    "        Array('name' => 'Kalle', 'salt' => 856412), \n",
    "        Array('name' => 'Pierre', 'salt' => 215863)\n",
    "        );\n",
    "\n",
    "for($i = 0, $size = count($people); $i < $size; ++$i)\n",
    "{\n",
    "    $people[$i]['salt'] = rand(000000, 999999);\n",
    "}"
   ]
  },
  {
   "attachments": {},
   "cell_type": "markdown",
   "metadata": {},
   "source": [
    "## foreach"
   ]
  },
  {
   "cell_type": "code",
   "execution_count": 76,
   "metadata": {
    "vscode": {
     "languageId": "php"
    }
   },
   "outputs": [
    {
     "data": {
      "text/plain": []
     },
     "execution_count": 76,
     "metadata": {},
     "output_type": "execute_result"
    }
   ],
   "source": [
    "<?php\n",
    "$arr = array(1, 2, 3, 4);\n",
    "foreach ($arr as &$value) {\n",
    "    $value = $value * 2;\n",
    "}\n",
    "// 现在 $arr 是 array(2, 4, 6, 8)\n",
    "unset($value); // 最后取消掉引用"
   ]
  },
  {
   "attachments": {},
   "cell_type": "markdown",
   "metadata": {},
   "source": [
    "### 用 list() 给嵌套的数组解包"
   ]
  },
  {
   "cell_type": "code",
   "execution_count": 77,
   "metadata": {
    "vscode": {
     "languageId": "php"
    }
   },
   "outputs": [
    {
     "data": {
      "text/plain": [
       "A: 1; B: 2\n",
       "A: 3; B: 4\n"
      ]
     },
     "execution_count": 77,
     "metadata": {},
     "output_type": "execute_result"
    }
   ],
   "source": [
    "<?php\n",
    "$array = [\n",
    "    [1, 2],\n",
    "    [3, 4],\n",
    "];\n",
    "\n",
    "foreach ($array as list($a, $b)) {\n",
    "    // $a 包含嵌套数组的第一个元素，\n",
    "    // $b 包含嵌套数组的第二个元素。\n",
    "    echo \"A: $a; B: $b\\n\";\n",
    "}"
   ]
  },
  {
   "attachments": {},
   "cell_type": "markdown",
   "metadata": {},
   "source": [
    "## break\n",
    "break 结束执行当前的 for、foreach、while、do-while、switch 结构。\n",
    "\n",
    "break 接受一个数字的可选参数，决定跳出几重循环。 默认值是 1，仅仅跳出最近一层嵌套结构。"
   ]
  },
  {
   "cell_type": "code",
   "execution_count": 78,
   "metadata": {
    "vscode": {
     "languageId": "php"
    }
   },
   "outputs": [
    {
     "data": {
      "text/plain": [
       "At 5<br />\n",
       "At 10; quitting<br />\n"
      ]
     },
     "execution_count": 78,
     "metadata": {},
     "output_type": "execute_result"
    }
   ],
   "source": [
    "<?php\n",
    "$i = 0;\n",
    "while (++$i) {\n",
    "    switch ($i) {\n",
    "        case 5:\n",
    "            echo \"At 5<br />\\n\";\n",
    "            break 1;  /* 只退出 switch. */\n",
    "        case 10:\n",
    "            echo \"At 10; quitting<br />\\n\";\n",
    "            break 2;  /* 退出 switch 和 while 循环 */\n",
    "        default:\n",
    "            break;\n",
    "    }\n",
    "}"
   ]
  },
  {
   "attachments": {},
   "cell_type": "markdown",
   "metadata": {},
   "source": [
    "## continue"
   ]
  },
  {
   "cell_type": "code",
   "execution_count": 79,
   "metadata": {
    "vscode": {
     "languageId": "php"
    }
   },
   "outputs": [
    {
     "data": {
      "text/plain": [
       "PHP Fatal error:  Call to undefined function do_something_odd() in eval()'d code on line 6"
      ]
     },
     "execution_count": 79,
     "metadata": {},
     "output_type": "execute_result"
    }
   ],
   "source": [
    "<?php\n",
    "foreach ($arr as $key => $value) {\n",
    "    if (!($key % 2)) { // 忽略偶数成员\n",
    "        continue;\n",
    "    }\n",
    "    do_something_odd($value);\n",
    "}"
   ]
  },
  {
   "attachments": {},
   "cell_type": "markdown",
   "metadata": {},
   "source": [
    "## switch"
   ]
  },
  {
   "cell_type": "code",
   "execution_count": 80,
   "metadata": {
    "vscode": {
     "languageId": "php"
    }
   },
   "outputs": [
    {
     "data": {
      "text/plain": [
       "i equals 1\n"
      ]
     },
     "execution_count": 80,
     "metadata": {},
     "output_type": "execute_result"
    }
   ],
   "source": [
    "\n",
    "switch (1) {\n",
    "    case 0:\n",
    "        echo \"i equals 0\";\n",
    "        break;\n",
    "    case 1:\n",
    "        echo \"i equals 1\";\n",
    "        break;\n",
    "    case 2:\n",
    "        echo \"i equals 2\";\n",
    "        break;\n",
    "}"
   ]
  },
  {
   "attachments": {},
   "cell_type": "markdown",
   "metadata": {},
   "source": [
    "## match\n",
    "8.0新增"
   ]
  },
  {
   "cell_type": "code",
   "execution_count": 81,
   "metadata": {
    "vscode": {
     "languageId": "php"
    }
   },
   "outputs": [
    {
     "data": {
      "text/plain": [
       "string(19) \"This food is a cake\"\n",
       "NULL\n"
      ]
     },
     "execution_count": 81,
     "metadata": {},
     "output_type": "execute_result"
    }
   ],
   "source": [
    "<?php\n",
    "$food = 'cake';\n",
    "\n",
    "$return_value = match ($food) {\n",
    "    'apple' => 'This food is an apple',\n",
    "    'bar' => 'This food is a bar',\n",
    "    'cake' => 'This food is a cake',\n",
    "};\n",
    "\n",
    "var_dump($return_value);"
   ]
  },
  {
   "attachments": {},
   "cell_type": "markdown",
   "metadata": {},
   "source": [
    "## declare\n",
    "```\n",
    "\n",
    "```"
   ]
  },
  {
   "attachments": {},
   "cell_type": "markdown",
   "metadata": {},
   "source": [
    "\n",
    "## return\n",
    "```\n",
    "\n",
    "```"
   ]
  },
  {
   "attachments": {},
   "cell_type": "markdown",
   "metadata": {},
   "source": [
    "\n",
    "## require\n",
    "```\n",
    "\n",
    "```\n"
   ]
  },
  {
   "attachments": {},
   "cell_type": "markdown",
   "metadata": {},
   "source": [
    "\n",
    "## include\n",
    "```\n",
    "\n",
    "```\n"
   ]
  },
  {
   "attachments": {},
   "cell_type": "markdown",
   "metadata": {},
   "source": [
    "\n",
    "## require_once\n",
    "```\n",
    "\n",
    "```\n"
   ]
  },
  {
   "attachments": {},
   "cell_type": "markdown",
   "metadata": {},
   "source": [
    "\n",
    "## include_once\n",
    "```\n",
    "\n",
    "```"
   ]
  },
  {
   "attachments": {},
   "cell_type": "markdown",
   "metadata": {},
   "source": [
    "## goto\n",
    "```\n",
    "\n",
    "```"
   ]
  }
 ],
 "metadata": {
  "kernelspec": {
   "display_name": "PHP",
   "language": "php",
   "name": "php"
  },
  "language_info": {
   "file_extension": ".php",
   "mimetype": "text/x-php",
   "name": "PHP",
   "pygments_lexer": "PHP",
   "version": "8.1.9"
  },
  "orig_nbformat": 4
 },
 "nbformat": 4,
 "nbformat_minor": 2
}
